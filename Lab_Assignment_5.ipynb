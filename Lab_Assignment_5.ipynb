{
  "nbformat": 4,
  "nbformat_minor": 0,
  "metadata": {
    "colab": {
      "provenance": [],
      "include_colab_link": true
    },
    "kernelspec": {
      "name": "python3",
      "display_name": "Python 3"
    },
    "language_info": {
      "name": "python"
    }
  },
  "cells": [
    {
      "cell_type": "markdown",
      "metadata": {
        "id": "view-in-github",
        "colab_type": "text"
      },
      "source": [
        "<a href=\"https://colab.research.google.com/github/fshishir242/shishir_242-/blob/main/Lab_Assignment_5.ipynb\" target=\"_parent\"><img src=\"https://colab.research.google.com/assets/colab-badge.svg\" alt=\"Open In Colab\"/></a>"
      ]
    },
    {
      "cell_type": "code",
      "execution_count": null,
      "metadata": {
        "colab": {
          "base_uri": "https://localhost:8080/"
        },
        "id": "vCYm_bKHliCl",
        "outputId": "7a78966c-e459-45e4-8ff5-334cbe35112d"
      },
      "outputs": [
        {
          "output_type": "stream",
          "name": "stdout",
          "text": [
            "3\n",
            "Numbers in the list: [3]\n",
            "5\n",
            "Numbers in the list: [3, 5]\n",
            "34\n",
            "Numbers in the list: [3, 5, 34]\n",
            "-11\n",
            "Numbers in the list: [3, 5, 34, -11]\n",
            "0\n",
            "Numbers in the list: [3, 5, 34, -11, 0]\n"
          ]
        }
      ],
      "source": [
        "#Task - 1\n",
        "list=[]\n",
        "for i in range(a):\n",
        "  x = int(input())\n",
        "  list.append(x)\n",
        "  print(f\"Numbers in the list: {list}\")"
      ]
    },
    {
      "cell_type": "code",
      "source": [
        "print(-7%4)"
      ],
      "metadata": {
        "colab": {
          "base_uri": "https://localhost:8080/"
        },
        "id": "HGv-GqBhbPcW",
        "outputId": "54e52d93-35b5-4bd4-fba3-1a4576c45700"
      },
      "execution_count": null,
      "outputs": [
        {
          "output_type": "stream",
          "name": "stdout",
          "text": [
            "1\n"
          ]
        }
      ]
    },
    {
      "cell_type": "code",
      "source": [
        "#Task - 2\n",
        "lst=input().split(\", \")\n",
        "l=[]\n",
        "for i in lst:\n",
        "  l.append(int(i))\n",
        "if len(l)>4:\n",
        "  print(l[2:-2])\n",
        "elif len(l)==4:\n",
        "  print([])\n",
        "else:\n",
        "  print(\"Not possible\")"
      ],
      "metadata": {
        "id": "9i27DLDZpPAv",
        "colab": {
          "base_uri": "https://localhost:8080/"
        },
        "outputId": "8d4ec71b-bfe9-43aa-89b6-5a4ea965e5da"
      },
      "execution_count": null,
      "outputs": [
        {
          "output_type": "stream",
          "name": "stdout",
          "text": [
            "10, 20, 24, 25, 26, 35, 70\n",
            "[24, 25, 26]\n"
          ]
        }
      ]
    },
    {
      "cell_type": "code",
      "source": [
        "#Task - 3\n",
        "l=[]\n",
        "for i in range(5):\n",
        "  x=int(input())\n",
        "  l.append(x)\n",
        "  t=l[::-1]\n",
        "print(f\"Printing values from the list in reverse order:\")\n",
        "for j in t:\n",
        "  print(j)\n",
        "\n",
        "\n",
        "\n"
      ],
      "metadata": {
        "colab": {
          "base_uri": "https://localhost:8080/"
        },
        "id": "Wjl7cb775caH",
        "outputId": "4ce844fb-5e26-462f-d428-f13c27c9e8dd"
      },
      "execution_count": null,
      "outputs": [
        {
          "output_type": "stream",
          "name": "stdout",
          "text": [
            "5\n",
            "-5\n",
            "100\n",
            "1\n",
            "0\n",
            "Printing values from the list in reverse order:\n",
            "0\n",
            "1\n",
            "100\n",
            "-5\n",
            "5\n"
          ]
        }
      ]
    },
    {
      "cell_type": "code",
      "source": [
        "n=int(input())\n",
        "x=input()\n",
        "l=[]\n",
        "s=''\n",
        "for i in x:\n",
        "  if i!=\",\":\n",
        "     s+=i\n",
        "  else:\n",
        "    l.append(int(s))\n",
        "    s=''\n",
        "l.append(int(s))\n",
        "m=0\n",
        "sm=0\n",
        "for num in l:\n",
        "    if m<num:\n",
        "        m=num\n",
        "        sm=m\n",
        "print(sm)\n",
        "\n"
      ],
      "metadata": {
        "colab": {
          "base_uri": "https://localhost:8080/",
          "height": 270
        },
        "id": "XZw592zOvAVp",
        "outputId": "bd750684-b427-4d04-9ea1-6f1a002d96fa"
      },
      "execution_count": null,
      "outputs": [
        {
          "name": "stdout",
          "output_type": "stream",
          "text": [
            "4\n",
            "[3,4,5,6]\n"
          ]
        },
        {
          "output_type": "error",
          "ename": "ValueError",
          "evalue": "ignored",
          "traceback": [
            "\u001b[0;31m---------------------------------------------------------------------------\u001b[0m",
            "\u001b[0;31mValueError\u001b[0m                                Traceback (most recent call last)",
            "\u001b[0;32m<ipython-input-3-44bb2f0c7d12>\u001b[0m in \u001b[0;36m<cell line: 5>\u001b[0;34m()\u001b[0m\n\u001b[1;32m      7\u001b[0m      \u001b[0ms\u001b[0m\u001b[0;34m+=\u001b[0m\u001b[0mi\u001b[0m\u001b[0;34m\u001b[0m\u001b[0;34m\u001b[0m\u001b[0m\n\u001b[1;32m      8\u001b[0m   \u001b[0;32melse\u001b[0m\u001b[0;34m:\u001b[0m\u001b[0;34m\u001b[0m\u001b[0;34m\u001b[0m\u001b[0m\n\u001b[0;32m----> 9\u001b[0;31m     \u001b[0ml\u001b[0m\u001b[0;34m.\u001b[0m\u001b[0mappend\u001b[0m\u001b[0;34m(\u001b[0m\u001b[0mint\u001b[0m\u001b[0;34m(\u001b[0m\u001b[0ms\u001b[0m\u001b[0;34m)\u001b[0m\u001b[0;34m)\u001b[0m\u001b[0;34m\u001b[0m\u001b[0;34m\u001b[0m\u001b[0m\n\u001b[0m\u001b[1;32m     10\u001b[0m     \u001b[0ms\u001b[0m\u001b[0;34m=\u001b[0m\u001b[0;34m''\u001b[0m\u001b[0;34m\u001b[0m\u001b[0;34m\u001b[0m\u001b[0m\n\u001b[1;32m     11\u001b[0m \u001b[0ml\u001b[0m\u001b[0;34m.\u001b[0m\u001b[0mappend\u001b[0m\u001b[0;34m(\u001b[0m\u001b[0mint\u001b[0m\u001b[0;34m(\u001b[0m\u001b[0ms\u001b[0m\u001b[0;34m)\u001b[0m\u001b[0;34m)\u001b[0m\u001b[0;34m\u001b[0m\u001b[0;34m\u001b[0m\u001b[0m\n",
            "\u001b[0;31mValueError\u001b[0m: invalid literal for int() with base 10: '[3'"
          ]
        }
      ]
    }
  ]
}