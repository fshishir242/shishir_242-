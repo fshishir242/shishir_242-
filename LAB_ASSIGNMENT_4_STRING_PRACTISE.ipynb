{
  "nbformat": 4,
  "nbformat_minor": 0,
  "metadata": {
    "colab": {
      "provenance": [],
      "authorship_tag": "ABX9TyPGTHis5bz2xtskMYI4hLg/",
      "include_colab_link": true
    },
    "kernelspec": {
      "name": "python3",
      "display_name": "Python 3"
    },
    "language_info": {
      "name": "python"
    }
  },
  "cells": [
    {
      "cell_type": "markdown",
      "metadata": {
        "id": "view-in-github",
        "colab_type": "text"
      },
      "source": [
        "<a href=\"https://colab.research.google.com/github/fshishir242/shishir_242-/blob/main/LAB_ASSIGNMENT_4_STRING_PRACTISE.ipynb\" target=\"_parent\"><img src=\"https://colab.research.google.com/assets/colab-badge.svg\" alt=\"Open In Colab\"/></a>"
      ]
    },
    {
      "cell_type": "code",
      "execution_count": null,
      "metadata": {
        "colab": {
          "base_uri": "https://localhost:8080/"
        },
        "id": "mB54m8C_Ts7M",
        "outputId": "41cc3fad-2931-42ea-f672-a51f3f86e8db"
      },
      "outputs": [
        {
          "output_type": "stream",
          "name": "stdout",
          "text": [
            "CSE110\n",
            "011ESC\n"
          ]
        }
      ],
      "source": [
        "#Task-1\n",
        "x = input()\n",
        "out=\"\"\n",
        "for i in range(-1,-len(x)-1,-1):\n",
        "   a=x[i]\n",
        "   out+=a\n",
        "print(out)"
      ]
    },
    {
      "cell_type": "code",
      "source": [
        "#Task-2\n",
        "x = input()\n",
        "y = int(input())\n",
        "st=\"\"\n",
        "for i in range(y,-1,-1):\n",
        "  a = x[i]\n",
        "  st+=a\n",
        "for j in range(y+1,len(x)):\n",
        "  b=x[j]\n",
        "  st+=b\n",
        "print(st)\n"
      ],
      "metadata": {
        "colab": {
          "base_uri": "https://localhost:8080/"
        },
        "id": "2A3yriDbWBMf",
        "outputId": "d0fc9293-4f3d-4f8a-9300-2b5792a037b7"
      },
      "execution_count": null,
      "outputs": [
        {
          "output_type": "stream",
          "name": "stdout",
          "text": [
            "32145\n",
            "2\n",
            "12345\n"
          ]
        }
      ]
    }
  ]
}