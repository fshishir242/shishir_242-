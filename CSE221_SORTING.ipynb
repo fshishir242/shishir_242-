{
  "nbformat": 4,
  "nbformat_minor": 0,
  "metadata": {
    "colab": {
      "provenance": [],
      "authorship_tag": "ABX9TyODtBwysA0bqMk+XrRGmc1t",
      "include_colab_link": true
    },
    "kernelspec": {
      "name": "python3",
      "display_name": "Python 3"
    },
    "language_info": {
      "name": "python"
    }
  },
  "cells": [
    {
      "cell_type": "markdown",
      "metadata": {
        "id": "view-in-github",
        "colab_type": "text"
      },
      "source": [
        "<a href=\"https://colab.research.google.com/github/fshishir242/shishir_242-/blob/main/CSE221_SORTING.ipynb\" target=\"_parent\"><img src=\"https://colab.research.google.com/assets/colab-badge.svg\" alt=\"Open In Colab\"/></a>"
      ]
    },
    {
      "cell_type": "code",
      "execution_count": null,
      "metadata": {
        "colab": {
          "base_uri": "https://localhost:8080/"
        },
        "id": "czfdoJ8IbTi9",
        "outputId": "3a447e4a-93c5-4acd-c3ea-fcebdc514880"
      },
      "outputs": [
        {
          "output_type": "stream",
          "name": "stdout",
          "text": [
            "2\n",
            "4\n"
          ]
        }
      ],
      "source": [
        "def binary_search(arr, elem):\n",
        "\n",
        "  low = arr[0]\n",
        "  high = arr[len(arr)-1]\n",
        "  #first occurance\n",
        "  while low <= high :\n",
        "    mid = (low + high) // 2\n",
        "    if arr[mid] > elem :\n",
        "      high = mid - 1\n",
        "    elif arr[mid] < elem :\n",
        "      low = mid  + 1\n",
        "    elif arr[mid] == elem :\n",
        "      result = mid\n",
        "      high = mid - 1\n",
        "  return result\n",
        "arr = [2,2,3,3,3,4,4,5,5,6]\n",
        "elem = 3\n",
        "x = binary_search(arr,elem)\n",
        "print(x)\n",
        "#last occurance\n",
        "def binary_search(arr, elem):\n",
        "  low = arr[0]\n",
        "  high = arr[len(arr)-1]\n",
        "  while low <= high :\n",
        "    mid = (low + high) // 2\n",
        "    if arr[mid] > elem :\n",
        "      high = mid - 1\n",
        "    elif arr[mid] < elem :\n",
        "      low = mid  + 1\n",
        "    elif arr[mid] == elem :\n",
        "      result = mid\n",
        "      low = mid+1\n",
        "  return result\n",
        "\n",
        "\n",
        "arr = [2,2,3,3,3,4,4,5,5,6]\n",
        "elem = 3\n",
        "x = binary_search(arr,elem)\n",
        "print(x)\n"
      ]
    },
    {
      "cell_type": "code",
      "source": [
        "#bubble sort\n",
        "def bubble_sort(arr):\n",
        "  for i in range(len(arr)):\n",
        "     for j in range(0,len(arr)-i-1):\n",
        "      if arr[j] > arr[j+1]:\n",
        "        temp = arr[j]\n",
        "        arr[j] = arr[j+1]\n",
        "        arr[j+1] = temp\n",
        "  return arr\n",
        "\n",
        "\n",
        "arr = [5,3,2,1,7,4,3]\n",
        "print(bubble_sort(arr))"
      ],
      "metadata": {
        "colab": {
          "base_uri": "https://localhost:8080/"
        },
        "id": "OnDJXkBEnyFU",
        "outputId": "62ecf6f3-3e87-483b-bdf7-09e0fa91777f"
      },
      "execution_count": null,
      "outputs": [
        {
          "output_type": "stream",
          "name": "stdout",
          "text": [
            "[1, 2, 3, 3, 4, 5, 7]\n"
          ]
        }
      ]
    },
    {
      "cell_type": "code",
      "source": [
        "#selection sort\n",
        "def selection_sort(arr):\n",
        "  for i in range(len(arr)):\n",
        "    min_indx = i\n",
        "    for j in range(i+1,len(arr)):\n",
        "      if arr[j] <arr[min_indx] :\n",
        "        min_indx = j\n",
        "    arr[i],arr[min_indx] = arr[min_indx], arr[i]\n",
        "  return arr\n",
        "\n",
        "\n",
        "arr = [5,3,2,1,7,4,3]\n",
        "print(selection_sort(arr))"
      ],
      "metadata": {
        "colab": {
          "base_uri": "https://localhost:8080/"
        },
        "id": "Jq6n6YtCsOCr",
        "outputId": "515248b2-fdc9-4e6c-e66d-5a747829b11b"
      },
      "execution_count": null,
      "outputs": [
        {
          "output_type": "stream",
          "name": "stdout",
          "text": [
            "[1, 2, 3, 3, 4, 5, 7]\n"
          ]
        }
      ]
    },
    {
      "cell_type": "code",
      "source": [
        "#count sort\n",
        "def count_sort(arr):\n",
        "  max = arr[0]\n",
        "  for i in range(len(arr)):\n",
        "    if arr[i] > max :\n",
        "      max = arr[i]\n",
        "  #count array\n",
        "  count_arr = [0] * (max+1)\n",
        "  count = 0\n",
        "  c_val = arr[0]\n",
        "  for i in range(len(arr)):\n",
        "    if arr[0] == c_val :\n",
        "      count+=1\n",
        "    else:\n",
        "      count = 1\n",
        "      c_val = [i]\n",
        "      arr = arr[i+1 :]\n",
        "    count_arr[c_val] = count\n",
        "\n",
        "  #cumulative count array\n",
        "  cumulative_array = [0]* len(count_arr)\n",
        "  for i in range(1,len(cumulative_array)):\n",
        "    cumulative_array[0] = count_arr[0]\n",
        "    cumulative_array[i] = count_arr[i] + count_arr[i-1]\n",
        "  #output array\n",
        "  output_array = [0] *len(arr)\n",
        "  for i in range(len(output_array)):\n",
        "   last_idx = len(arr)-1\n",
        "   output_idx  = cumulative_array[arr[last_idx]] - 1\n",
        "   output_array[output_idx] = arr[last_idx]\n",
        "   cumulative_array[output_idx] = -1\n",
        "  return output_array\n",
        "\n",
        "\n",
        "\n",
        "arr = [2,1,3,0,1,4,2,3,5]\n",
        "print(count_sort(arr))"
      ],
      "metadata": {
        "colab": {
          "base_uri": "https://localhost:8080/"
        },
        "id": "TvixYg3bEp3R",
        "outputId": "0ae536df-2b5e-4baf-903f-d82be476462b"
      },
      "execution_count": null,
      "outputs": [
        {
          "output_type": "stream",
          "name": "stdout",
          "text": [
            "[0, 0, 0, 0, 0, 0, 0, 5, 5]\n"
          ]
        }
      ]
    }
  ]
}